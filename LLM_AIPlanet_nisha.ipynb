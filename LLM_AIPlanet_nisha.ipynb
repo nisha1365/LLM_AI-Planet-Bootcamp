{
  "nbformat": 4,
  "nbformat_minor": 0,
  "metadata": {
    "colab": {
      "provenance": [],
      "authorship_tag": "ABX9TyOFMjv3guwbfuvHH8WrewFh",
      "include_colab_link": true
    },
    "kernelspec": {
      "name": "python3",
      "display_name": "Python 3"
    },
    "language_info": {
      "name": "python"
    }
  },
  "cells": [
    {
      "cell_type": "markdown",
      "metadata": {
        "id": "view-in-github",
        "colab_type": "text"
      },
      "source": [
        "<a href=\"https://colab.research.google.com/github/nisha1365/LLM_AI-Planet-Bootcamp/blob/main/LLM_AIPlanet_nisha.ipynb\" target=\"_parent\"><img src=\"https://colab.research.google.com/assets/colab-badge.svg\" alt=\"Open In Colab\"/></a>"
      ]
    },
    {
      "cell_type": "markdown",
      "source": [
        "## Question-1:\n",
        "\n",
        "Use Transformers model and build a Code Generation application on the given data.\n",
        "\n",
        "Data: https://huggingface.co/datasets/theblackcat102/evol-codealpaca-v1\n",
        "\n",
        ""
      ],
      "metadata": {
        "id": "oTj9DlgcEKI4"
      }
    },
    {
      "cell_type": "markdown",
      "source": [
        "**Importing the Necessary Libraries.**"
      ],
      "metadata": {
        "id": "P6bpPy_7qM8O"
      }
    },
    {
      "cell_type": "code",
      "source": [
        "!pip install transformers datasets\n"
      ],
      "metadata": {
        "colab": {
          "base_uri": "https://localhost:8080/"
        },
        "id": "laWYVwTIUPb-",
        "outputId": "b58a3030-73fb-4abd-fa48-3fec03a075d8"
      },
      "execution_count": 1,
      "outputs": [
        {
          "output_type": "stream",
          "name": "stdout",
          "text": [
            "Requirement already satisfied: transformers in /usr/local/lib/python3.10/dist-packages (4.33.3)\n",
            "Requirement already satisfied: datasets in /usr/local/lib/python3.10/dist-packages (2.14.5)\n",
            "Requirement already satisfied: filelock in /usr/local/lib/python3.10/dist-packages (from transformers) (3.12.2)\n",
            "Requirement already satisfied: huggingface-hub<1.0,>=0.15.1 in /usr/local/lib/python3.10/dist-packages (from transformers) (0.17.3)\n",
            "Requirement already satisfied: numpy>=1.17 in /usr/local/lib/python3.10/dist-packages (from transformers) (1.23.5)\n",
            "Requirement already satisfied: packaging>=20.0 in /usr/local/lib/python3.10/dist-packages (from transformers) (23.1)\n",
            "Requirement already satisfied: pyyaml>=5.1 in /usr/local/lib/python3.10/dist-packages (from transformers) (6.0.1)\n",
            "Requirement already satisfied: regex!=2019.12.17 in /usr/local/lib/python3.10/dist-packages (from transformers) (2023.6.3)\n",
            "Requirement already satisfied: requests in /usr/local/lib/python3.10/dist-packages (from transformers) (2.31.0)\n",
            "Requirement already satisfied: tokenizers!=0.11.3,<0.14,>=0.11.1 in /usr/local/lib/python3.10/dist-packages (from transformers) (0.13.3)\n",
            "Requirement already satisfied: safetensors>=0.3.1 in /usr/local/lib/python3.10/dist-packages (from transformers) (0.3.3)\n",
            "Requirement already satisfied: tqdm>=4.27 in /usr/local/lib/python3.10/dist-packages (from transformers) (4.66.1)\n",
            "Requirement already satisfied: pyarrow>=8.0.0 in /usr/local/lib/python3.10/dist-packages (from datasets) (9.0.0)\n",
            "Requirement already satisfied: dill<0.3.8,>=0.3.0 in /usr/local/lib/python3.10/dist-packages (from datasets) (0.3.7)\n",
            "Requirement already satisfied: pandas in /usr/local/lib/python3.10/dist-packages (from datasets) (1.5.3)\n",
            "Requirement already satisfied: xxhash in /usr/local/lib/python3.10/dist-packages (from datasets) (3.3.0)\n",
            "Requirement already satisfied: multiprocess in /usr/local/lib/python3.10/dist-packages (from datasets) (0.70.15)\n",
            "Requirement already satisfied: fsspec[http]<2023.9.0,>=2023.1.0 in /usr/local/lib/python3.10/dist-packages (from datasets) (2023.6.0)\n",
            "Requirement already satisfied: aiohttp in /usr/local/lib/python3.10/dist-packages (from datasets) (3.8.5)\n",
            "Requirement already satisfied: attrs>=17.3.0 in /usr/local/lib/python3.10/dist-packages (from aiohttp->datasets) (23.1.0)\n",
            "Requirement already satisfied: charset-normalizer<4.0,>=2.0 in /usr/local/lib/python3.10/dist-packages (from aiohttp->datasets) (3.2.0)\n",
            "Requirement already satisfied: multidict<7.0,>=4.5 in /usr/local/lib/python3.10/dist-packages (from aiohttp->datasets) (6.0.4)\n",
            "Requirement already satisfied: async-timeout<5.0,>=4.0.0a3 in /usr/local/lib/python3.10/dist-packages (from aiohttp->datasets) (4.0.3)\n",
            "Requirement already satisfied: yarl<2.0,>=1.0 in /usr/local/lib/python3.10/dist-packages (from aiohttp->datasets) (1.9.2)\n",
            "Requirement already satisfied: frozenlist>=1.1.1 in /usr/local/lib/python3.10/dist-packages (from aiohttp->datasets) (1.4.0)\n",
            "Requirement already satisfied: aiosignal>=1.1.2 in /usr/local/lib/python3.10/dist-packages (from aiohttp->datasets) (1.3.1)\n",
            "Requirement already satisfied: typing-extensions>=3.7.4.3 in /usr/local/lib/python3.10/dist-packages (from huggingface-hub<1.0,>=0.15.1->transformers) (4.5.0)\n",
            "Requirement already satisfied: idna<4,>=2.5 in /usr/local/lib/python3.10/dist-packages (from requests->transformers) (3.4)\n",
            "Requirement already satisfied: urllib3<3,>=1.21.1 in /usr/local/lib/python3.10/dist-packages (from requests->transformers) (2.0.4)\n",
            "Requirement already satisfied: certifi>=2017.4.17 in /usr/local/lib/python3.10/dist-packages (from requests->transformers) (2023.7.22)\n",
            "Requirement already satisfied: python-dateutil>=2.8.1 in /usr/local/lib/python3.10/dist-packages (from pandas->datasets) (2.8.2)\n",
            "Requirement already satisfied: pytz>=2020.1 in /usr/local/lib/python3.10/dist-packages (from pandas->datasets) (2023.3.post1)\n",
            "Requirement already satisfied: six>=1.5 in /usr/local/lib/python3.10/dist-packages (from python-dateutil>=2.8.1->pandas->datasets) (1.16.0)\n"
          ]
        }
      ]
    },
    {
      "cell_type": "code",
      "source": [
        "!pip install transformers\n",
        "!pip install transformers datasets\n"
      ],
      "metadata": {
        "colab": {
          "base_uri": "https://localhost:8080/"
        },
        "id": "KdI-a_9MjZHN",
        "outputId": "b36c62de-a0b5-479a-b114-06567de4f756"
      },
      "execution_count": 9,
      "outputs": [
        {
          "output_type": "stream",
          "name": "stdout",
          "text": [
            "Requirement already satisfied: transformers in /usr/local/lib/python3.10/dist-packages (4.33.3)\n",
            "Requirement already satisfied: filelock in /usr/local/lib/python3.10/dist-packages (from transformers) (3.12.2)\n",
            "Requirement already satisfied: huggingface-hub<1.0,>=0.15.1 in /usr/local/lib/python3.10/dist-packages (from transformers) (0.17.3)\n",
            "Requirement already satisfied: numpy>=1.17 in /usr/local/lib/python3.10/dist-packages (from transformers) (1.23.5)\n",
            "Requirement already satisfied: packaging>=20.0 in /usr/local/lib/python3.10/dist-packages (from transformers) (23.1)\n",
            "Requirement already satisfied: pyyaml>=5.1 in /usr/local/lib/python3.10/dist-packages (from transformers) (6.0.1)\n",
            "Requirement already satisfied: regex!=2019.12.17 in /usr/local/lib/python3.10/dist-packages (from transformers) (2023.6.3)\n",
            "Requirement already satisfied: requests in /usr/local/lib/python3.10/dist-packages (from transformers) (2.31.0)\n",
            "Requirement already satisfied: tokenizers!=0.11.3,<0.14,>=0.11.1 in /usr/local/lib/python3.10/dist-packages (from transformers) (0.13.3)\n",
            "Requirement already satisfied: safetensors>=0.3.1 in /usr/local/lib/python3.10/dist-packages (from transformers) (0.3.3)\n",
            "Requirement already satisfied: tqdm>=4.27 in /usr/local/lib/python3.10/dist-packages (from transformers) (4.66.1)\n",
            "Requirement already satisfied: fsspec in /usr/local/lib/python3.10/dist-packages (from huggingface-hub<1.0,>=0.15.1->transformers) (2023.6.0)\n",
            "Requirement already satisfied: typing-extensions>=3.7.4.3 in /usr/local/lib/python3.10/dist-packages (from huggingface-hub<1.0,>=0.15.1->transformers) (4.5.0)\n",
            "Requirement already satisfied: charset-normalizer<4,>=2 in /usr/local/lib/python3.10/dist-packages (from requests->transformers) (3.2.0)\n",
            "Requirement already satisfied: idna<4,>=2.5 in /usr/local/lib/python3.10/dist-packages (from requests->transformers) (3.4)\n",
            "Requirement already satisfied: urllib3<3,>=1.21.1 in /usr/local/lib/python3.10/dist-packages (from requests->transformers) (2.0.4)\n",
            "Requirement already satisfied: certifi>=2017.4.17 in /usr/local/lib/python3.10/dist-packages (from requests->transformers) (2023.7.22)\n",
            "Requirement already satisfied: transformers in /usr/local/lib/python3.10/dist-packages (4.33.3)\n",
            "Requirement already satisfied: datasets in /usr/local/lib/python3.10/dist-packages (2.14.5)\n",
            "Requirement already satisfied: filelock in /usr/local/lib/python3.10/dist-packages (from transformers) (3.12.2)\n",
            "Requirement already satisfied: huggingface-hub<1.0,>=0.15.1 in /usr/local/lib/python3.10/dist-packages (from transformers) (0.17.3)\n",
            "Requirement already satisfied: numpy>=1.17 in /usr/local/lib/python3.10/dist-packages (from transformers) (1.23.5)\n",
            "Requirement already satisfied: packaging>=20.0 in /usr/local/lib/python3.10/dist-packages (from transformers) (23.1)\n",
            "Requirement already satisfied: pyyaml>=5.1 in /usr/local/lib/python3.10/dist-packages (from transformers) (6.0.1)\n",
            "Requirement already satisfied: regex!=2019.12.17 in /usr/local/lib/python3.10/dist-packages (from transformers) (2023.6.3)\n",
            "Requirement already satisfied: requests in /usr/local/lib/python3.10/dist-packages (from transformers) (2.31.0)\n",
            "Requirement already satisfied: tokenizers!=0.11.3,<0.14,>=0.11.1 in /usr/local/lib/python3.10/dist-packages (from transformers) (0.13.3)\n",
            "Requirement already satisfied: safetensors>=0.3.1 in /usr/local/lib/python3.10/dist-packages (from transformers) (0.3.3)\n",
            "Requirement already satisfied: tqdm>=4.27 in /usr/local/lib/python3.10/dist-packages (from transformers) (4.66.1)\n",
            "Requirement already satisfied: pyarrow>=8.0.0 in /usr/local/lib/python3.10/dist-packages (from datasets) (9.0.0)\n",
            "Requirement already satisfied: dill<0.3.8,>=0.3.0 in /usr/local/lib/python3.10/dist-packages (from datasets) (0.3.7)\n",
            "Requirement already satisfied: pandas in /usr/local/lib/python3.10/dist-packages (from datasets) (1.5.3)\n",
            "Requirement already satisfied: xxhash in /usr/local/lib/python3.10/dist-packages (from datasets) (3.3.0)\n",
            "Requirement already satisfied: multiprocess in /usr/local/lib/python3.10/dist-packages (from datasets) (0.70.15)\n",
            "Requirement already satisfied: fsspec[http]<2023.9.0,>=2023.1.0 in /usr/local/lib/python3.10/dist-packages (from datasets) (2023.6.0)\n",
            "Requirement already satisfied: aiohttp in /usr/local/lib/python3.10/dist-packages (from datasets) (3.8.5)\n",
            "Requirement already satisfied: attrs>=17.3.0 in /usr/local/lib/python3.10/dist-packages (from aiohttp->datasets) (23.1.0)\n",
            "Requirement already satisfied: charset-normalizer<4.0,>=2.0 in /usr/local/lib/python3.10/dist-packages (from aiohttp->datasets) (3.2.0)\n",
            "Requirement already satisfied: multidict<7.0,>=4.5 in /usr/local/lib/python3.10/dist-packages (from aiohttp->datasets) (6.0.4)\n",
            "Requirement already satisfied: async-timeout<5.0,>=4.0.0a3 in /usr/local/lib/python3.10/dist-packages (from aiohttp->datasets) (4.0.3)\n",
            "Requirement already satisfied: yarl<2.0,>=1.0 in /usr/local/lib/python3.10/dist-packages (from aiohttp->datasets) (1.9.2)\n",
            "Requirement already satisfied: frozenlist>=1.1.1 in /usr/local/lib/python3.10/dist-packages (from aiohttp->datasets) (1.4.0)\n",
            "Requirement already satisfied: aiosignal>=1.1.2 in /usr/local/lib/python3.10/dist-packages (from aiohttp->datasets) (1.3.1)\n",
            "Requirement already satisfied: typing-extensions>=3.7.4.3 in /usr/local/lib/python3.10/dist-packages (from huggingface-hub<1.0,>=0.15.1->transformers) (4.5.0)\n",
            "Requirement already satisfied: idna<4,>=2.5 in /usr/local/lib/python3.10/dist-packages (from requests->transformers) (3.4)\n",
            "Requirement already satisfied: urllib3<3,>=1.21.1 in /usr/local/lib/python3.10/dist-packages (from requests->transformers) (2.0.4)\n",
            "Requirement already satisfied: certifi>=2017.4.17 in /usr/local/lib/python3.10/dist-packages (from requests->transformers) (2023.7.22)\n",
            "Requirement already satisfied: python-dateutil>=2.8.1 in /usr/local/lib/python3.10/dist-packages (from pandas->datasets) (2.8.2)\n",
            "Requirement already satisfied: pytz>=2020.1 in /usr/local/lib/python3.10/dist-packages (from pandas->datasets) (2023.3.post1)\n",
            "Requirement already satisfied: six>=1.5 in /usr/local/lib/python3.10/dist-packages (from python-dateutil>=2.8.1->pandas->datasets) (1.16.0)\n"
          ]
        }
      ]
    },
    {
      "cell_type": "markdown",
      "source": [
        "# **In this code:**\n",
        "\n",
        "We define a function generate_code_from_index that takes an index as input.\n",
        "Inside the function, we retrieve the instruction and output at the specified index from the dataset.\n",
        "We then tokenize the instruction, generate code based on that instruction, and decode the generated code.\n",
        "You can specify the instruction_index variable to generate code for a specific index in the dataset.\n",
        "This code allows you to generate code based on the instructions at the chosen index in the dataset. Just change the value of instruction_index to the desired index you want to explore."
      ],
      "metadata": {
        "id": "BnFJFqV4o9nx"
      }
    },
    {
      "cell_type": "markdown",
      "source": [
        "**In this code:**\n",
        "\n",
        "We load the dataset using the datasets library from Hugging Face.\n",
        "\n",
        "We define a function generate_code_from_instructions that takes an instruction as input, tokenizes it, generates code, and decodes the generated code.\n",
        "\n",
        "We iterate through the dataset, extracting instructions and actual code outputs for each example.\n",
        "\n",
        "For each instruction, we generate code using the generate_code_from_instructions function and compare it with the actual code output."
      ],
      "metadata": {
        "id": "fIflBUqAqYpf"
      }
    },
    {
      "cell_type": "code",
      "source": [
        "from transformers import GPT2LMHeadModel, GPT2Tokenizer\n",
        "import datasets\n",
        "\n",
        "# Load the dataset from the Hugging Face Datasets Hub\n",
        "dataset = datasets.load_dataset(\"theblackcat102/evol-codealpaca-v1\")\n",
        "\n",
        "# Load a pre-trained GPT-2 model and tokenizer\n",
        "model_name = \"gpt2\"\n",
        "tokenizer = GPT2Tokenizer.from_pretrained(model_name)\n",
        "model = GPT2LMHeadModel.from_pretrained(model_name)\n",
        "\n",
        "# Function to generate code from instructions at a specific index\n",
        "def generate_code_from_index(index):\n",
        "    # Get the instruction and output at the specified index\n",
        "    instruction = dataset[\"train\"][index][\"instruction\"]\n",
        "    output = dataset[\"train\"][index][\"output\"]\n",
        "\n",
        "    # Tokenize the instruction\n",
        "    input_ids = tokenizer.encode(instruction, return_tensors=\"pt\")\n",
        "\n",
        "    # Generate code\n",
        "    output = model.generate(input_ids, max_length=100, num_return_sequences=1)\n",
        "\n",
        "    # Decode the generated code\n",
        "    generated_code = tokenizer.decode(output[0], skip_special_tokens=True)\n",
        "\n",
        "    return instruction, generated_code, output\n",
        "\n",
        "# Specify the index of the instruction you want to generate code for\n",
        "instruction_index = 0  # Change this to the desired index\n",
        "\n",
        "# Generate code for the specified index\n",
        "instruction, generated_code, output = generate_code_from_index(instruction_index)\n",
        "\n",
        "# Print the results\n",
        "print(\"Instructions:\")\n",
        "print(instruction)\n",
        "print(\"Generated Code:\")\n",
        "print(generated_code)\n",
        "print(\"Actual Code:\")\n",
        "print(output)\n"
      ],
      "metadata": {
        "colab": {
          "base_uri": "https://localhost:8080/"
        },
        "id": "ubf5rnG4ooiG",
        "outputId": "e2bcada4-d476-4034-8bba-ec4d7d174c4a"
      },
      "execution_count": 13,
      "outputs": [
        {
          "output_type": "stream",
          "name": "stderr",
          "text": [
            "The attention mask and the pad token id were not set. As a consequence, you may observe unexpected behavior. Please pass your input's `attention_mask` to obtain reliable results.\n",
            "Setting `pad_token_id` to `eos_token_id`:50256 for open-end generation.\n"
          ]
        },
        {
          "output_type": "stream",
          "name": "stdout",
          "text": [
            "Instructions:\n",
            "Please amend the subsequent Python script so that it includes a 'while' loop rather than the existing 'for' loop, which iterates through the items of an integer list.\n",
            "\n",
            "The script currently has a bug where it attempts to print an object that is outside the bounds of the list. Fix this error and modify the script to use 'while' instead of 'for' loop. Ensure your script correctly handles empty lists. \n",
            "\n",
            "```python\n",
            "  # Establish an integer list\n",
            "  arr = [1, 2, 3, 4]\n",
            "\n",
            "  # Determine the length of the list\n",
            "  n = len(arr)\n",
            "\n",
            "  # Traverse the list and output each individual element\n",
            "  for i in range(n+1):\n",
            "      print(arr[i])\n",
            "```\n",
            "Generated Code:\n",
            "Please amend the subsequent Python script so that it includes a 'while' loop rather than the existing 'for' loop, which iterates through the items of an integer list.\n",
            "\n",
            "The script currently has a bug where it attempts to print an object that is outside the bounds of the list. Fix this error and modify the script to use 'while' instead of 'for' loop. Ensure your script correctly handles empty lists. \n",
            "\n",
            "```python\n",
            "  # Establish an integer list\n",
            "  arr = [1, 2, 3, 4]\n",
            "\n",
            "  # Determine the length of the list\n",
            "  n = len(arr)\n",
            "\n",
            "  # Traverse the list and output each individual element\n",
            "  for i in range(n+1):\n",
            "      print(arr[i])\n",
            "```\n",
            "\n",
            "Actual Code:\n",
            "tensor([[ 5492, 13582,   262,  8840, 11361,  4226,   523,   326,   340,  3407,\n",
            "           257,   705,  4514,     6,  9052,  2138,   621,   262,  4683,   705,\n",
            "          1640,     6,  9052,    11,   543, 11629,   689,   832,   262,  3709,\n",
            "           286,   281, 18253,  1351,    13,   198,   198,   464,  4226,  3058,\n",
            "           468,   257,  5434,   810,   340,  6370,   284,  3601,   281,  2134,\n",
            "           326,   318,  2354,   262, 22303,   286,   262,  1351,    13, 13268,\n",
            "           428,  4049,   290, 13096,   262,  4226,   284,   779,   705,  4514,\n",
            "             6,  2427,   286,   705,  1640,     6,  9052,    13, 48987,   534,\n",
            "          4226,  9380, 17105,  6565,  8341,    13,   220,   198,   198, 15506,\n",
            "            63, 29412,   198,   220,  1303, 10062, 17148,   281, 18253,  1351,\n",
            "           198,   220,  5240,   796,   685,    16,    11,   362,    11,   513,\n",
            "            11,   604,    60,   628,   220,  1303, 45559,  3810,   262,  4129,\n",
            "           286,   262,  1351,   198,   220,   299,   796, 18896,     7,  3258,\n",
            "             8,   628,   220,  1303,  4759,  4399,   262,  1351,   290,  5072,\n",
            "          1123,  1981,  5002,   198,   220,   329,  1312,   287,  2837,     7,\n",
            "            77,    10,    16,  2599,   198,   220,   220,   220,   220,   220,\n",
            "          3601,     7,  3258,    58,    72, 12962,   198, 15506,    63,   198]])\n"
          ]
        }
      ]
    },
    {
      "cell_type": "code",
      "source": [
        " #Specify the index of the instruction you want to generate code for\n",
        "instruction_index = 5  # Change this to the desired index\n",
        "\n",
        "# Generate code for the specified index\n",
        "instruction, generated_code, output = generate_code_from_index(instruction_index)\n",
        "\n",
        "# Print the results\n",
        "print(\"Instructions:\")\n",
        "print(instruction)\n",
        "print(\"Generated Code:\")\n",
        "print(generated_code)\n",
        "print(\"Actual Code:\")\n",
        "print(output)"
      ],
      "metadata": {
        "colab": {
          "base_uri": "https://localhost:8080/"
        },
        "id": "oun4OtEXqDJw",
        "outputId": "ac708e03-82da-4ec3-f52d-3b26afeffad0"
      },
      "execution_count": 15,
      "outputs": [
        {
          "output_type": "stream",
          "name": "stderr",
          "text": [
            "The attention mask and the pad token id were not set. As a consequence, you may observe unexpected behavior. Please pass your input's `attention_mask` to obtain reliable results.\n",
            "Setting `pad_token_id` to `eos_token_id`:50256 for open-end generation.\n"
          ]
        },
        {
          "output_type": "stream",
          "name": "stdout",
          "text": [
            "Instructions:\n",
            "I have a vue multi-select component and I need when the user selects an item to get the data from SQL. The user can select up to 4 items. I am struggling to figure out how to do it.\n",
            "I tried this code in sql and it works if I select two apps but I need to do a condition when I select more or less and I am stuck\n",
            "\n",
            "Declare @item  nvarchar(max)='App1,App2';\n",
            "SET @sqlApp = Replace(@item  , ',', '.');\n",
            "------------------- select using parse function------------\n",
            "select   \n",
            "user,\n",
            "count(case when app = PARSENAME(@item  ,1) then 1 end) as app1,\n",
            "count(case when app  = PARSENAME(@item  ,2) then 1 end) as app2\n",
            "from AppTable\n",
            "group by user\n",
            "order by count(*) desc\n",
            "Generated Code:\n",
            "I have a vue multi-select component and I need when the user selects an item to get the data from SQL. The user can select up to 4 items. I am struggling to figure out how to do it.\n",
            "I tried this code in sql and it works if I select two apps but I need to do a condition when I select more or less and I am stuck\n",
            "\n",
            "Declare @item  nvarchar(max)='App1,App2';\n",
            "SET @sqlApp = Replace(@item , ',', '.');\n",
            "------------------- select using parse function------------\n",
            "select   \n",
            "user,\n",
            "count(case when app = PARSENAME(@item ,1) then 1 end) as app1,\n",
            "count(case when app  = PARSENAME(@item ,2) then 1 end) as app2\n",
            "from AppTable\n",
            "group by user\n",
            "order by count(*) desc\n",
            "\n",
            "Actual Code:\n",
            "tensor([[   40,   423,   257,   410,   518,  5021,    12, 19738,  7515,   290,\n",
            "           314,   761,   618,   262,  2836, 40573,   281,  2378,   284,   651,\n",
            "           262,  1366,   422, 16363,    13,   383,  2836,   460,  2922,   510,\n",
            "           284,   604,  3709,    13,   314,   716,  9648,   284,  3785,   503,\n",
            "           703,   284,   466,   340,    13,   198,    40,  3088,   428,  2438,\n",
            "           287, 44161,   290,   340,  2499,   611,   314,  2922,   734,  6725,\n",
            "           475,   314,   761,   284,   466,   257,  4006,   618,   314,  2922,\n",
            "           517,   393,  1342,   290,   314,   716,  7819,   198,   198, 37835,\n",
            "           533,  2488,  9186,   220,   299,    85,   998,   283,     7,  9806,\n",
            "             8, 11639,  4677,    16,    11,  4677,    17, 17020,   198, 28480,\n",
            "          2488, 25410,  4677,   796, 40177,     7,    31,  9186,   220,   837,\n",
            "         46083,  3256,   705,  2637,  1776,   198,  1783,  6329,  2922,  1262,\n",
            "         21136,  2163, 10541,   198, 19738,   220,   220,   220,   198,  7220,\n",
            "            11,   198,  9127,     7,  7442,   618,   598,   796,   350, 27415,\n",
            "          1677, 10067,     7,    31,  9186,   220,   837,    16,     8,   788,\n",
            "           352,   886,     8,   355,   598,    16,    11,   198,  9127,     7,\n",
            "          7442,   618,   598,   220,   796,   350, 27415,  1677, 10067,     7,\n",
            "            31,  9186,   220,   837,    17,     8,   788,   352,   886,     8,\n",
            "           355,   598,    17,   198,  6738,  2034, 10962,   198,  8094,   416,\n",
            "          2836,   198,  2875,   416,   954,     7, 28104,  1715,   198]])\n"
          ]
        }
      ]
    }
  ]
}